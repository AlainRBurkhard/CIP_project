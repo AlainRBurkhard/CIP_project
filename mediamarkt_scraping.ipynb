{
 "cells": [
  {
   "cell_type": "markdown",
   "id": "328d2ce8-f9df-4004-9882-ed60be716c30",
   "metadata": {},
   "source": [
    "# Import libraries"
   ]
  },
  {
   "cell_type": "code",
   "execution_count": 1,
   "id": "d8d22031-5f3c-4018-82db-69656af4cd2f",
   "metadata": {
    "tags": []
   },
   "outputs": [],
   "source": [
    "import logging\n",
    "import os\n",
    "import re\n",
    "import time\n",
    "from datetime import datetime\n",
    "\n",
    "import pandas as pd\n",
    "import selenium\n",
    "from selenium import webdriver\n",
    "from selenium.common.exceptions import NoSuchElementException\n",
    "from selenium.common.exceptions import TimeoutException\n",
    "from selenium.webdriver.common.by import By\n",
    "from selenium.webdriver.support import expected_conditions as EC\n",
    "from selenium.webdriver.support.ui import WebDriverWait"
   ]
  },
  {
   "cell_type": "markdown",
   "id": "c2f4d7d1-6cb7-4b3e-9048-e182746a89f5",
   "metadata": {},
   "source": [
    "# Create logger"
   ]
  },
  {
   "cell_type": "code",
   "execution_count": 2,
   "id": "d231312c-9a74-4546-9249-f7b9da998d85",
   "metadata": {
    "tags": []
   },
   "outputs": [],
   "source": [
    "os.makedirs(\"logs\", exist_ok=True)"
   ]
  },
  {
   "cell_type": "code",
   "execution_count": 3,
   "id": "1819ee70-a06e-463d-9f42-5cd2f27b0bf9",
   "metadata": {
    "tags": []
   },
   "outputs": [],
   "source": [
    "logger = logging.getLogger(__name__)\n",
    "logger.setLevel(logging.INFO)\n",
    "\n",
    "formatter = logging.Formatter('%(asctime)s - %(levelname)s - %(message)s')\n",
    "\n",
    "time_now = datetime.now().isoformat()[:-7].replace(\":\", \"-\")\n",
    "file_handler = logging.FileHandler(f'logs/scrapping-{time_now}.log', encoding='utf-8', mode='w')\n",
    "file_handler.setLevel(logging.INFO)\n",
    "\n",
    "file_handler.setFormatter(formatter)\n",
    "\n",
    "# Create console handler\n",
    "console_handler = logging.StreamHandler()\n",
    "console_handler.setLevel(logging.WARNING)\n",
    "console_handler.setFormatter(formatter)\n",
    "\n",
    "# Add both handlers to logger\n",
    "logger.addHandler(file_handler)\n",
    "logger.addHandler(console_handler)"
   ]
  },
  {
   "cell_type": "markdown",
   "id": "d049ba9a-f0d2-4fec-9683-e0278e621b9b",
   "metadata": {},
   "source": [
    "# Create driver instance"
   ]
  },
  {
   "cell_type": "code",
   "execution_count": 4,
   "id": "e846fe37-5f77-4141-a3b9-bcc033c263da",
   "metadata": {
    "tags": []
   },
   "outputs": [],
   "source": [
    "driver = webdriver.Firefox()\n",
    "# TODO: driverless mode"
   ]
  },
  {
   "cell_type": "markdown",
   "id": "f7933314-3959-49eb-864e-4f7da889a021",
   "metadata": {},
   "source": [
    "# Scraping process"
   ]
  },
  {
   "cell_type": "code",
   "execution_count": 5,
   "id": "8ac7d3f0-6187-4c3b-9a67-d4d0c969ded5",
   "metadata": {
    "tags": []
   },
   "outputs": [],
   "source": [
    "# #My Source\n",
    "wait = WebDriverWait(driver, 4)\n",
    "# mediamarkt_home = driver.get(\"https://www.mediamarkt.ch/de/category/_smartphone-680815.html?searchParams=&sort=&view=PRODUCTGRID&page=1\")"
   ]
  },
  {
   "cell_type": "code",
   "execution_count": 6,
   "id": "4b5aa221-bcbb-4ce3-a3db-0a679f887aa0",
   "metadata": {
    "tags": []
   },
   "outputs": [],
   "source": [
    "def collect_phones_info_from_page(driver) -> list[dict]:\n",
    "    smartphones = driver.find_elements(By.CSS_SELECTOR, 'ul.products-grid > li')\n",
    "\n",
    "    phone_list_page = []\n",
    "    for phone in smartphones:   \n",
    "        #Info: brand, model, size, space\n",
    "        info = phone.find_element(By.CSS_SELECTOR, \"a.product-link\").text\n",
    "        brand_model = info.split(\"-\")[0]\n",
    "        brand, model = brand_model.split(\" \", maxsplit=1)\n",
    "        \n",
    "        category_match = re.search(r' - (\\w+)', info)\n",
    "        category = category_match.group(1) if category_match else None\n",
    "        \n",
    "        size = re.search(r'\\((\\d+\\.\\d+)\\s*\"', info)\n",
    "        size = size.group(1) if size else None\n",
    "        \n",
    "        storage = re.search(r'(\\d+)\\s+(GB|TB)', info)\n",
    "        storage = storage.group(1) + \" \" + storage.group(2) if storage else None\n",
    "        \n",
    "        color = re.split(r',\\s*(?=\\w)', info)[-1].rstrip(')')\n",
    "        \n",
    "        price = \"\".join([i.text for i in phone.find_elements(By.CSS_SELECTOR, \n",
    "                                                                 'div.price > span')])\n",
    "        price = price.strip(\"-\")\n",
    "        \n",
    "        condition = 'new'\n",
    "        \n",
    "        link_element = phone.find_element(By.CSS_SELECTOR, 'a.photo')\n",
    "        phone_url = link_element.get_attribute('href')\n",
    "        \n",
    "        \n",
    "        phone_features = {\n",
    "            \"page\" : i,\n",
    "            \"brand\": brand,\n",
    "            \"model\": model,\n",
    "            \"category\": category,\n",
    "            \"size\": size,\n",
    "            \"storage\": storage,\n",
    "            \"color\": color,\n",
    "            \"price\": price,\n",
    "            \"source\": phone_url,\n",
    "            \"condition\": condition,\n",
    "            \"date\": pd.to_datetime(datetime.today().strftime('%Y-%m-%d'))\n",
    "        }\n",
    "        \n",
    "        phone_list_page.append(phone_features)\n",
    "\n",
    "    return phone_list_page"
   ]
  },
  {
   "cell_type": "code",
   "execution_count": 7,
   "id": "c2932838-9ce9-4ff6-9b87-dc270fcdd676",
   "metadata": {
    "tags": []
   },
   "outputs": [],
   "source": [
    "def get_additional_phone_info(driver):\n",
    "    phone = {}\n",
    "    try:\n",
    "        # Wait until article number element is present on the webpage\n",
    "        css_selector = 'dl.group > dd > span[itemprop]'\n",
    "        article_number = wait.until(EC.presence_of_element_located((By.CSS_SELECTOR, css_selector)))\n",
    "        article_number = article_number.get_attribute('content').split(':')[1]\n",
    "        logger.info(f\"\\t{article_number=}\")\n",
    "        phone['article_number'] = article_number\n",
    "\n",
    "    except (NoSuchElementException, TimeoutException) as e:\n",
    "        logger.warning(f\" {phone['source'] =}\")\n",
    "        logger.warning(f\" {css_selector =}\")\n",
    "        logger.warning(e)  \n",
    "\n",
    "    try:\n",
    "        # Wait until number of reviews element is present on the webpage\n",
    "        css_selector = '.bv_numReviews_text'\n",
    "        n_of_reviews = wait.until(EC.presence_of_element_located((By.CSS_SELECTOR, css_selector ))).text\n",
    "        logger.info(f\" \\t{n_of_reviews=}\")\n",
    "        phone['n_of_reviews'] = n_of_reviews\n",
    "\n",
    "    except (NoSuchElementException, TimeoutException) as e:\n",
    "        logger.warning(f\" {phone['source'] =}\")\n",
    "        logger.warning(f\" {css_selector =}\")\n",
    "        logger.warning(e) \n",
    "\n",
    "\n",
    "    try:\n",
    "        # Wait until rating element is present on the webpage\n",
    "        css_selector = 'div[itemprop=\"ratingValue\"]'\n",
    "        rating = wait.until(EC.presence_of_element_located((By.CSS_SELECTOR, css_selector)))\n",
    "        logger.info(f\" \\t{rating=}\")\n",
    "        phone['rating'] = rating.text\n",
    "\n",
    "    except (NoSuchElementException, TimeoutException) as e:\n",
    "        logger.warning(f\" {phone['source'] =}\")\n",
    "        logger.warning(f\" {css_selector =}\")\n",
    "        logger.warning(e) \n",
    "\n",
    "\n",
    "    try:\n",
    "        css_selector = 'div.box.infobox.availability > ul > li > p > span'\n",
    "        delivery_time = wait.until(EC.presence_of_element_located((By.CSS_SELECTOR, css_selector))).text\n",
    "        logger.info(f\" \\t{delivery_time=}\")\n",
    "        phone['delivery_time'] = delivery_time\n",
    "\n",
    "    except (NoSuchElementException, TimeoutException) as e:\n",
    "        logger.warning(f\" {phone['source'] =}\")\n",
    "        logger.warning(f\" {css_selector =}\")\n",
    "        logger.warning(e) \n",
    "    \n",
    "    return phone"
   ]
  },
  {
   "cell_type": "markdown",
   "id": "9729b39e-613e-4ac2-8b4c-c38b626f92f3",
   "metadata": {},
   "source": [
    "## Collect all phones"
   ]
  },
  {
   "cell_type": "code",
   "execution_count": 21,
   "id": "e65e4031-b4a9-43ff-b520-6818c07575d9",
   "metadata": {
    "tags": []
   },
   "outputs": [
    {
     "ename": "NoSuchElementException",
     "evalue": "Message: Unable to locate element: li:last-child; For documentation on this error, please visit: https://www.selenium.dev/documentation/webdriver/troubleshooting/errors#no-such-element-exception\nStacktrace:\nRemoteError@chrome://remote/content/shared/RemoteError.sys.mjs:8:8\nWebDriverError@chrome://remote/content/shared/webdriver/Errors.sys.mjs:192:5\nNoSuchElementError@chrome://remote/content/shared/webdriver/Errors.sys.mjs:510:5\ndom.find/</<@chrome://remote/content/shared/DOM.sys.mjs:136:16\n",
     "output_type": "error",
     "traceback": [
      "\u001b[0;31m---------------------------------------------------------------------------\u001b[0m",
      "\u001b[0;31mNoSuchElementException\u001b[0m                    Traceback (most recent call last)",
      "Cell \u001b[0;32mIn[21], line 10\u001b[0m\n\u001b[1;32m      8\u001b[0m \u001b[38;5;28;01mif\u001b[39;00m max_pages \u001b[38;5;129;01mis\u001b[39;00m \u001b[38;5;28;01mNone\u001b[39;00m:\n\u001b[1;32m      9\u001b[0m     css_selector \u001b[38;5;241m=\u001b[39m \u001b[38;5;124m\"\u001b[39m\u001b[38;5;124mli:last-child\u001b[39m\u001b[38;5;124m\"\u001b[39m\n\u001b[0;32m---> 10\u001b[0m     max_pages \u001b[38;5;241m=\u001b[39m \u001b[38;5;28mint\u001b[39m(driver\u001b[38;5;241m.\u001b[39mfind_element(By\u001b[38;5;241m.\u001b[39mCSS_SELECTOR, css_selector)\u001b[38;5;241m.\u001b[39mget_attribute(\u001b[38;5;124m'\u001b[39m\u001b[38;5;124mdata-value\u001b[39m\u001b[38;5;124m'\u001b[39m))\n\u001b[1;32m     11\u001b[0m     \u001b[38;5;28mprint\u001b[39m(max_pages)\n\u001b[1;32m     12\u001b[0m \u001b[38;5;28;01mtry\u001b[39;00m:\n",
      "File \u001b[0;32m~/anaconda3/lib/python3.11/site-packages/selenium/webdriver/remote/webdriver.py:741\u001b[0m, in \u001b[0;36mWebDriver.find_element\u001b[0;34m(self, by, value)\u001b[0m\n\u001b[1;32m    738\u001b[0m     by \u001b[38;5;241m=\u001b[39m By\u001b[38;5;241m.\u001b[39mCSS_SELECTOR\n\u001b[1;32m    739\u001b[0m     value \u001b[38;5;241m=\u001b[39m \u001b[38;5;124mf\u001b[39m\u001b[38;5;124m'\u001b[39m\u001b[38;5;124m[name=\u001b[39m\u001b[38;5;124m\"\u001b[39m\u001b[38;5;132;01m{\u001b[39;00mvalue\u001b[38;5;132;01m}\u001b[39;00m\u001b[38;5;124m\"\u001b[39m\u001b[38;5;124m]\u001b[39m\u001b[38;5;124m'\u001b[39m\n\u001b[0;32m--> 741\u001b[0m \u001b[38;5;28;01mreturn\u001b[39;00m \u001b[38;5;28mself\u001b[39m\u001b[38;5;241m.\u001b[39mexecute(Command\u001b[38;5;241m.\u001b[39mFIND_ELEMENT, {\u001b[38;5;124m\"\u001b[39m\u001b[38;5;124musing\u001b[39m\u001b[38;5;124m\"\u001b[39m: by, \u001b[38;5;124m\"\u001b[39m\u001b[38;5;124mvalue\u001b[39m\u001b[38;5;124m\"\u001b[39m: value})[\u001b[38;5;124m\"\u001b[39m\u001b[38;5;124mvalue\u001b[39m\u001b[38;5;124m\"\u001b[39m]\n",
      "File \u001b[0;32m~/anaconda3/lib/python3.11/site-packages/selenium/webdriver/remote/webdriver.py:347\u001b[0m, in \u001b[0;36mWebDriver.execute\u001b[0;34m(self, driver_command, params)\u001b[0m\n\u001b[1;32m    345\u001b[0m response \u001b[38;5;241m=\u001b[39m \u001b[38;5;28mself\u001b[39m\u001b[38;5;241m.\u001b[39mcommand_executor\u001b[38;5;241m.\u001b[39mexecute(driver_command, params)\n\u001b[1;32m    346\u001b[0m \u001b[38;5;28;01mif\u001b[39;00m response:\n\u001b[0;32m--> 347\u001b[0m     \u001b[38;5;28mself\u001b[39m\u001b[38;5;241m.\u001b[39merror_handler\u001b[38;5;241m.\u001b[39mcheck_response(response)\n\u001b[1;32m    348\u001b[0m     response[\u001b[38;5;124m\"\u001b[39m\u001b[38;5;124mvalue\u001b[39m\u001b[38;5;124m\"\u001b[39m] \u001b[38;5;241m=\u001b[39m \u001b[38;5;28mself\u001b[39m\u001b[38;5;241m.\u001b[39m_unwrap_value(response\u001b[38;5;241m.\u001b[39mget(\u001b[38;5;124m\"\u001b[39m\u001b[38;5;124mvalue\u001b[39m\u001b[38;5;124m\"\u001b[39m, \u001b[38;5;28;01mNone\u001b[39;00m))\n\u001b[1;32m    349\u001b[0m     \u001b[38;5;28;01mreturn\u001b[39;00m response\n",
      "File \u001b[0;32m~/anaconda3/lib/python3.11/site-packages/selenium/webdriver/remote/errorhandler.py:229\u001b[0m, in \u001b[0;36mErrorHandler.check_response\u001b[0;34m(self, response)\u001b[0m\n\u001b[1;32m    227\u001b[0m         alert_text \u001b[38;5;241m=\u001b[39m value[\u001b[38;5;124m\"\u001b[39m\u001b[38;5;124malert\u001b[39m\u001b[38;5;124m\"\u001b[39m]\u001b[38;5;241m.\u001b[39mget(\u001b[38;5;124m\"\u001b[39m\u001b[38;5;124mtext\u001b[39m\u001b[38;5;124m\"\u001b[39m)\n\u001b[1;32m    228\u001b[0m     \u001b[38;5;28;01mraise\u001b[39;00m exception_class(message, screen, stacktrace, alert_text)  \u001b[38;5;66;03m# type: ignore[call-arg]  # mypy is not smart enough here\u001b[39;00m\n\u001b[0;32m--> 229\u001b[0m \u001b[38;5;28;01mraise\u001b[39;00m exception_class(message, screen, stacktrace)\n",
      "\u001b[0;31mNoSuchElementException\u001b[0m: Message: Unable to locate element: li:last-child; For documentation on this error, please visit: https://www.selenium.dev/documentation/webdriver/troubleshooting/errors#no-such-element-exception\nStacktrace:\nRemoteError@chrome://remote/content/shared/RemoteError.sys.mjs:8:8\nWebDriverError@chrome://remote/content/shared/webdriver/Errors.sys.mjs:192:5\nNoSuchElementError@chrome://remote/content/shared/webdriver/Errors.sys.mjs:510:5\ndom.find/</<@chrome://remote/content/shared/DOM.sys.mjs:136:16\n"
     ]
    }
   ],
   "source": [
    "phone_list = [] \n",
    "i = 1\n",
    "max_pages = None\n",
    "while (max_pages is None) or (i <= max_pages):\n",
    "    url = f\"https://www.mediamarkt.ch/de/category/_smartphone-680815.html\" + \\\n",
    "          f\"?searchParams=&sort=&view=PRODUCTGRID&page={i}\"\n",
    "    \n",
    "    if max_pages is None:\n",
    "        css_selector = \".pagination > li:last-child\"\n",
    "        max_pages = int(driver.find_element(By.CSS_SELECTOR, css_selector).get_attribute('data-value'))\n",
    "        print(max_pages)\n",
    "    try:\n",
    "        driver.get(url)\n",
    "    except WebDriverException as e:\n",
    "        print(f\"Error: {e}\")\n",
    "        break\n",
    "    \n",
    "    phone_list_page = collect_phones_info_from_page(driver)\n",
    "    for phone in phone_list_page:\n",
    "        phone['time_of_scrapping'] = datetime.now()\n",
    "        phone['datails_getted'] = False\n",
    "        phone['status'] = 'Initial scrapping'\n",
    "    \n",
    "    phone_list.extend(phone_list_page)    \n",
    "            \n",
    "    time.sleep(2)\n",
    "    \n",
    "    i += 1   "
   ]
  },
  {
   "cell_type": "markdown",
   "id": "0634f908-c877-4d7e-bfd0-b7dabd31f4ac",
   "metadata": {},
   "source": [
    "## Update all phone info"
   ]
  },
  {
   "cell_type": "code",
   "execution_count": 10,
   "id": "0bd430e2-9a95-4142-8727-cea74ebac7bf",
   "metadata": {
    "tags": []
   },
   "outputs": [],
   "source": [
    "### going inside each phone page\n",
    "for phone in phone_list:\n",
    "    if phone['datails_getted']:\n",
    "        continue\n",
    "\n",
    "    driver.get(phone['source'])\n",
    "    logger.info(phone['source'])\n",
    "\n",
    "    ## catching broken pages\n",
    "    try:\n",
    "        body = driver.find_element(By.CSS_SELECTOR, \"body > *\")\n",
    "    except NoSuchElementException:\n",
    "        logger.warning(phone['source'])\n",
    "        logger.warning(\"page broken\")\n",
    "        phone['status'] = 'detailed page broken'\n",
    "        continue\n",
    "\n",
    "    new_details = get_additional_phone_info(driver)\n",
    "    phone.update(new_details)\n",
    "    phone['datails_getted'] = True\n",
    "    phone['status'] = 'successfully scraped'\n",
    "\n",
    "    time.sleep(2)"
   ]
  },
  {
   "cell_type": "markdown",
   "id": "a5631533-0a00-43df-91ba-69473cc0f2f6",
   "metadata": {},
   "source": [
    "## Print results"
   ]
  },
  {
   "cell_type": "code",
   "execution_count": 11,
   "id": "cd03feba-1f25-44f5-8659-5fcfc7420663",
   "metadata": {
    "tags": []
   },
   "outputs": [
    {
     "ename": "NameError",
     "evalue": "name 'phones' is not defined",
     "output_type": "error",
     "traceback": [
      "\u001b[0;31m---------------------------------------------------------------------------\u001b[0m",
      "\u001b[0;31mNameError\u001b[0m                                 Traceback (most recent call last)",
      "Cell \u001b[0;32mIn[11], line 1\u001b[0m\n\u001b[0;32m----> 1\u001b[0m logger\u001b[38;5;241m.\u001b[39minfo(\u001b[38;5;28mlen\u001b[39m(phones))\n\u001b[1;32m      2\u001b[0m logger\u001b[38;5;241m.\u001b[39minfo(\u001b[38;5;124mf\u001b[39m\u001b[38;5;124m\"\u001b[39m\u001b[38;5;132;01m{\u001b[39;00mmax_pages\u001b[38;5;132;01m=}\u001b[39;00m\u001b[38;5;124m\"\u001b[39m)\n",
      "\u001b[0;31mNameError\u001b[0m: name 'phones' is not defined"
     ]
    }
   ],
   "source": [
    "logger.info(len(phones))\n",
    "logger.info(f\"{max_pages=}\")"
   ]
  },
  {
   "cell_type": "code",
   "execution_count": 12,
   "id": "479d41da-134a-4008-ba7d-5f8419ff9ffc",
   "metadata": {
    "collapsed": true,
    "jupyter": {
     "outputs_hidden": true
    },
    "tags": []
   },
   "outputs": [
    {
     "data": {
      "text/plain": [
       "[]"
      ]
     },
     "execution_count": 12,
     "metadata": {},
     "output_type": "execute_result"
    }
   ],
   "source": [
    "phone_list"
   ]
  },
  {
   "cell_type": "markdown",
   "id": "777ed227-97ae-4261-a834-f6f5661dd677",
   "metadata": {},
   "source": [
    "## Close Driver"
   ]
  },
  {
   "cell_type": "code",
   "execution_count": 13,
   "id": "5e418ada-fb26-4f72-92bd-8a5208cd6a19",
   "metadata": {
    "tags": []
   },
   "outputs": [],
   "source": [
    "driver.quit()"
   ]
  },
  {
   "cell_type": "markdown",
   "id": "77bae87d-6d9b-47ca-ae5e-586e6a95ee9a",
   "metadata": {},
   "source": [
    "# Save data to csv"
   ]
  },
  {
   "cell_type": "markdown",
   "id": "c89c9765-aeb2-4bc0-832c-b3065b5c1a6e",
   "metadata": {},
   "source": [
    "## Transforming in a dataframe"
   ]
  },
  {
   "cell_type": "code",
   "execution_count": 14,
   "id": "f68cb56d-8d00-4857-9df0-c01e92376507",
   "metadata": {
    "collapsed": true,
    "jupyter": {
     "outputs_hidden": true
    },
    "tags": []
   },
   "outputs": [
    {
     "data": {
      "text/html": [
       "<div>\n",
       "<style scoped>\n",
       "    .dataframe tbody tr th:only-of-type {\n",
       "        vertical-align: middle;\n",
       "    }\n",
       "\n",
       "    .dataframe tbody tr th {\n",
       "        vertical-align: top;\n",
       "    }\n",
       "\n",
       "    .dataframe thead th {\n",
       "        text-align: right;\n",
       "    }\n",
       "</style>\n",
       "<table border=\"1\" class=\"dataframe\">\n",
       "  <thead>\n",
       "    <tr style=\"text-align: right;\">\n",
       "      <th></th>\n",
       "    </tr>\n",
       "  </thead>\n",
       "  <tbody>\n",
       "  </tbody>\n",
       "</table>\n",
       "</div>"
      ],
      "text/plain": [
       "Empty DataFrame\n",
       "Columns: []\n",
       "Index: []"
      ]
     },
     "execution_count": 14,
     "metadata": {},
     "output_type": "execute_result"
    }
   ],
   "source": [
    "df = pd.DataFrame(phone_list)\n",
    "df.head(50)"
   ]
  },
  {
   "cell_type": "markdown",
   "id": "d7863f7f-4b9d-476b-840f-87b6bae1349a",
   "metadata": {},
   "source": [
    "## save to csv"
   ]
  },
  {
   "cell_type": "code",
   "execution_count": 15,
   "id": "b136a954-b6d6-463a-ba61-d310f05a0d74",
   "metadata": {
    "tags": []
   },
   "outputs": [],
   "source": [
    "file_name = \"scraped_mediamarkt.csv\"\n",
    "# Save the DataFrame to CSV in the same directory as the script\n",
    "df.to_csv(file_name, index=False)"
   ]
  },
  {
   "cell_type": "code",
   "execution_count": null,
   "id": "39effca5-cbc2-4831-b3c6-5f65bbb59da9",
   "metadata": {},
   "outputs": [],
   "source": []
  },
  {
   "cell_type": "code",
   "execution_count": null,
   "id": "3a836cc2-a79b-41ff-9208-01c93d4dbfc4",
   "metadata": {},
   "outputs": [],
   "source": []
  },
  {
   "cell_type": "code",
   "execution_count": null,
   "id": "4b589a3f-954e-4224-ae46-809cb465eb22",
   "metadata": {},
   "outputs": [],
   "source": []
  }
 ],
 "metadata": {
  "kernelspec": {
   "display_name": "venv",
   "language": "python",
   "name": "venv"
  },
  "language_info": {
   "codemirror_mode": {
    "name": "ipython",
    "version": 3
   },
   "file_extension": ".py",
   "mimetype": "text/x-python",
   "name": "python",
   "nbconvert_exporter": "python",
   "pygments_lexer": "ipython3",
   "version": "3.11.5"
  }
 },
 "nbformat": 4,
 "nbformat_minor": 5
}
