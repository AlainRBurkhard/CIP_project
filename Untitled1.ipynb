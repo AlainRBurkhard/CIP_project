{
 "cells": [
  {
   "cell_type": "code",
   "execution_count": 34,
   "id": "5753bc0f-89be-49e3-825f-ba0b7e979043",
   "metadata": {
    "tags": []
   },
   "outputs": [],
   "source": [
    "import logging\n",
    "import os\n",
    "import re\n",
    "import time\n",
    "from datetime import datetime\n",
    "\n",
    "import pandas as pd\n",
    "import selenium\n",
    "from selenium import webdriver\n",
    "from selenium.common.exceptions import NoSuchElementException\n",
    "from selenium.common.exceptions import TimeoutException\n",
    "from selenium.webdriver.common.by import By\n",
    "from selenium.webdriver.support import expected_conditions as EC\n",
    "from selenium.webdriver.support.ui import WebDriverWait\n",
    "import selenium\n",
    "from selenium import webdriver"
   ]
  },
  {
   "cell_type": "code",
   "execution_count": 35,
   "id": "0f87b04c-614d-4d84-8561-daa2263dedcf",
   "metadata": {
    "tags": []
   },
   "outputs": [],
   "source": [
    "driver = webdriver.Firefox()\n",
    "# TODO: driverless mode\n",
    "\n",
    "# #My Source\n",
    "wait = WebDriverWait(driver, 6)"
   ]
  },
  {
   "cell_type": "code",
   "execution_count": 36,
   "id": "ed267bd9-6927-4afb-b235-333d90b62e36",
   "metadata": {
    "tags": []
   },
   "outputs": [],
   "source": [
    "url = 'https://www.mediamarkt.ch/de/product/_apple-iphone-15-2203371.html'\n",
    "driver.get(url)"
   ]
  },
  {
   "cell_type": "code",
   "execution_count": 21,
   "id": "20dcf733-07ce-428f-b591-1d26a664f173",
   "metadata": {
    "tags": []
   },
   "outputs": [
    {
     "name": "stdout",
     "output_type": "stream",
     "text": [
      "<selenium.webdriver.remote.webelement.WebElement (session=\"857c0c28-395d-484a-8583-8f762ed0753d\", element=\"80285304-f867-414d-b00b-9aa2289de23f\")>\n"
     ]
    }
   ],
   "source": [
    "css_selector = 'div.box.infobox.availability > ul > li > p > span'\n",
    "delivery_time = wait.until(EC.presence_of_element_located((By.CSS_SELECTOR, css_selector))).text\n",
    "css_selector = '#tab-technicals #features .specification dd:nth-of-type(4)'\n",
    " # This assumes 'specification' is the class of the <dl> element\n",
    "mp_value = wait.until(EC.presence_of_element_located((By.CSS_SELECTOR, css_selector)))\n",
    "print(mp_value)"
   ]
  },
  {
   "cell_type": "code",
   "execution_count": 22,
   "id": "a1c0d110-65dc-44cb-aa30-79dbd9b684f2",
   "metadata": {
    "tags": []
   },
   "outputs": [
    {
     "name": "stdout",
     "output_type": "stream",
     "text": [
      "\n"
     ]
    }
   ],
   "source": [
    "delivery_time_selector = '#tab-technicals #features .specification dd:nth-of-type(4)'\n",
    "# Wait for the element to be located and then get the WebElement\n",
    "delivery_time_element = wait.until(EC.presence_of_element_located((By.CSS_SELECTOR, delivery_time_selector)))\n",
    "# Retrieve the text from the WebElement\n",
    "delivery_time = delivery_time_element.text\n",
    "\n",
    "# Print the text content of the WebElement\n",
    "print(delivery_time)\n"
   ]
  },
  {
   "cell_type": "code",
   "execution_count": 28,
   "id": "f2476c2d-0460-42a3-885a-eae653a54ed8",
   "metadata": {
    "tags": []
   },
   "outputs": [
    {
     "ename": "TimeoutException",
     "evalue": "Message: \nStacktrace:\nRemoteError@chrome://remote/content/shared/RemoteError.sys.mjs:8:8\nWebDriverError@chrome://remote/content/shared/webdriver/Errors.sys.mjs:192:5\nNoSuchElementError@chrome://remote/content/shared/webdriver/Errors.sys.mjs:510:5\ndom.find/</<@chrome://remote/content/shared/DOM.sys.mjs:136:16\n",
     "output_type": "error",
     "traceback": [
      "\u001b[0;31m---------------------------------------------------------------------------\u001b[0m",
      "\u001b[0;31mTimeoutException\u001b[0m                          Traceback (most recent call last)",
      "Cell \u001b[0;32mIn[28], line 3\u001b[0m\n\u001b[1;32m      1\u001b[0m \u001b[38;5;66;03m# First, click the button to expand the accordion\u001b[39;00m\n\u001b[1;32m      2\u001b[0m accordion_button_selector \u001b[38;5;241m=\u001b[39m \u001b[38;5;124m'\u001b[39m\u001b[38;5;124mtab-technicals button.accordion_title\u001b[39m\u001b[38;5;124m'\u001b[39m  \u001b[38;5;66;03m# Adjust if necessary\u001b[39;00m\n\u001b[0;32m----> 3\u001b[0m accordion_button \u001b[38;5;241m=\u001b[39m \u001b[43mwait\u001b[49m\u001b[38;5;241;43m.\u001b[39;49m\u001b[43muntil\u001b[49m\u001b[43m(\u001b[49m\u001b[43mEC\u001b[49m\u001b[38;5;241;43m.\u001b[39;49m\u001b[43melement_to_be_clickable\u001b[49m\u001b[43m(\u001b[49m\u001b[43m(\u001b[49m\u001b[43mBy\u001b[49m\u001b[38;5;241;43m.\u001b[39;49m\u001b[43mCSS_SELECTOR\u001b[49m\u001b[43m,\u001b[49m\u001b[43m \u001b[49m\u001b[43maccordion_button_selector\u001b[49m\u001b[43m)\u001b[49m\u001b[43m)\u001b[49m\u001b[43m)\u001b[49m\n\u001b[1;32m      4\u001b[0m accordion_button\u001b[38;5;241m.\u001b[39mclick()\n\u001b[1;32m      6\u001b[0m \u001b[38;5;66;03m# Then, wait for the element containing \"48 MP\" to be visible\u001b[39;00m\n",
      "File \u001b[0;32m~/CIP_project/venv/lib/python3.9/site-packages/selenium/webdriver/support/wait.py:105\u001b[0m, in \u001b[0;36mWebDriverWait.until\u001b[0;34m(self, method, message)\u001b[0m\n\u001b[1;32m    103\u001b[0m     \u001b[38;5;28;01mif\u001b[39;00m time\u001b[38;5;241m.\u001b[39mmonotonic() \u001b[38;5;241m>\u001b[39m end_time:\n\u001b[1;32m    104\u001b[0m         \u001b[38;5;28;01mbreak\u001b[39;00m\n\u001b[0;32m--> 105\u001b[0m \u001b[38;5;28;01mraise\u001b[39;00m TimeoutException(message, screen, stacktrace)\n",
      "\u001b[0;31mTimeoutException\u001b[0m: Message: \nStacktrace:\nRemoteError@chrome://remote/content/shared/RemoteError.sys.mjs:8:8\nWebDriverError@chrome://remote/content/shared/webdriver/Errors.sys.mjs:192:5\nNoSuchElementError@chrome://remote/content/shared/webdriver/Errors.sys.mjs:510:5\ndom.find/</<@chrome://remote/content/shared/DOM.sys.mjs:136:16\n"
     ]
    }
   ],
   "source": [
    "# First, click the button to expand the accordion\n",
    "accordion_button_selector = 'tab-technicals button.accordion_title'  # Adjust if necessary\n",
    "accordion_button = wait.until(EC.element_to_be_clickable((By.CSS_SELECTOR, accordion_button_selector)))\n",
    "accordion_button.click()\n",
    "\n",
    "# Then, wait for the element containing \"48 MP\" to be visible\n",
    "mp_value_selector = 'tab-technicals >features .specification dd:nth-of-type(4)'\n",
    "mp_value_element = wait.until(EC.visibility_of_element_located((By.CSS_SELECTOR, mp_value_selector)))\n",
    "mp_value = mp_value_element.text\n",
    "\n",
    "print(mp_value)"
   ]
  },
  {
   "cell_type": "code",
   "execution_count": 33,
   "id": "7e832d3a-690a-462c-8f8a-e0227a207db1",
   "metadata": {
    "tags": []
   },
   "outputs": [
    {
     "data": {
      "text/plain": [
       "<bound method WebDriver.quit of <selenium.webdriver.firefox.webdriver.WebDriver (session=\"93d17b16-e43f-4ffc-98e0-875411fb08ef\")>>"
      ]
     },
     "execution_count": 33,
     "metadata": {},
     "output_type": "execute_result"
    }
   ],
   "source": [
    "driver.quit"
   ]
  },
  {
   "cell_type": "code",
   "execution_count": 51,
   "id": "d3e2de8f-9b01-419b-97e5-9402b3b65da9",
   "metadata": {
    "tags": []
   },
   "outputs": [],
   "source": [
    "# CSS selector that targets the <dd> element that directly follows the <dt> containing specific text\n",
    "css_selector = \"div.accordion_content .specification dt:contains('Rückkamera Auflösung:') + dd\"\n"
   ]
  },
  {
   "cell_type": "code",
   "execution_count": 52,
   "id": "1c5487c9-92b9-44b7-844e-743dbc6aaea2",
   "metadata": {
    "tags": []
   },
   "outputs": [],
   "source": [
    "# Get all dd elements within the .specification class\n",
    "dd_elements = driver.find_elements(By.CSS_SELECTOR, \".specification dd\")\n",
    "\n",
    "# Now, iterate over these and match based on content\n",
    "for dd in dd_elements:\n",
    "    if dd.text.strip() == \"48 MP\":\n",
    "        print(\"Found:\", dd.text)\n",
    "        break\n"
   ]
  },
  {
   "cell_type": "code",
   "execution_count": 53,
   "id": "2814a6c2-1270-4625-884a-ce9cd2b78782",
   "metadata": {
    "tags": []
   },
   "outputs": [
    {
     "data": {
      "text/plain": [
       "''"
      ]
     },
     "execution_count": 53,
     "metadata": {},
     "output_type": "execute_result"
    }
   ],
   "source": [
    "dd.text"
   ]
  },
  {
   "cell_type": "code",
   "execution_count": null,
   "id": "283a514e-34d5-4e2c-b522-65b5a1d9d6b4",
   "metadata": {},
   "outputs": [],
   "source": [
    "#features > section:nth-child(3) > h2:nth-child(1)"
   ]
  },
  {
   "cell_type": "code",
   "execution_count": 65,
   "id": "4832e30d-2f92-4408-a70d-a6df7e9b9f23",
   "metadata": {
    "tags": []
   },
   "outputs": [],
   "source": [
    "# First, find all <dt> elements within the <dl> that is a sibling to <h2 class=\"Kamera\">\n",
    "dt_elements = driver.find_elements(By.CSS_SELECTOR, '.h2.Kamera.dl.specification dt')\n",
    "\n",
    "# Now iterate through the <dt> elements to find the one that contains \"Rückkamera Auflösung:\"\n",
    "for dt in dt_elements:\n",
    "    if \"Rückkamera Auflösung:\" in dt.text:\n",
    "        # The <dd> we're interested in is the next sibling to this <dt>\n",
    "        mp_value_dd = dt.find_element(By.XPATH, 'following-sibling::dd')\n",
    "        mp_value = mp_value_dd.text\n",
    "        print(\"Found:\", mp_value)\n",
    "        break"
   ]
  },
  {
   "cell_type": "code",
   "execution_count": 67,
   "id": "3631989d-efa7-4261-b695-b2adc34f2bbc",
   "metadata": {
    "tags": []
   },
   "outputs": [
    {
     "data": {
      "text/plain": [
       "[]"
      ]
     },
     "execution_count": 67,
     "metadata": {},
     "output_type": "execute_result"
    }
   ],
   "source": [
    "dt_elements = driver.find_elements(By.CSS_SELECTOR, '.h2.Kamera')\n",
    "dt_elements"
   ]
  },
  {
   "cell_type": "code",
   "execution_count": null,
   "id": "98be733f-5c05-4168-8832-97d57355284a",
   "metadata": {},
   "outputs": [],
   "source": []
  },
  {
   "cell_type": "code",
   "execution_count": null,
   "id": "b2e4d715-94da-4061-800b-46f377c89905",
   "metadata": {},
   "outputs": [],
   "source": []
  }
 ],
 "metadata": {
  "kernelspec": {
   "display_name": "Python 3 (ipykernel)",
   "language": "python",
   "name": "python3"
  },
  "language_info": {
   "codemirror_mode": {
    "name": "ipython",
    "version": 3
   },
   "file_extension": ".py",
   "mimetype": "text/x-python",
   "name": "python",
   "nbconvert_exporter": "python",
   "pygments_lexer": "ipython3",
   "version": "3.9.6"
  }
 },
 "nbformat": 4,
 "nbformat_minor": 5
}
