{
 "cells": [
  {
   "cell_type": "code",
   "execution_count": 10,
   "id": "721947f9-1500-4616-a2cd-fed2605af69a",
   "metadata": {
    "tags": []
   },
   "outputs": [
    {
     "data": {
      "application/vnd.jupyter.widget-view+json": {
       "model_id": "055d4855a9a34dd0a7bb59606caef1fb",
       "version_major": 2,
       "version_minor": 0
      },
      "text/plain": [
       "Summarize dataset:   0%|          | 0/5 [00:00<?, ?it/s]"
      ]
     },
     "metadata": {},
     "output_type": "display_data"
    },
    {
     "name": "stderr",
     "output_type": "stream",
     "text": [
      "/Users/ramonburkhard/CIP_project/venv/lib/python3.9/site-packages/ydata_profiling/model/correlations.py:66: UserWarning: There was an attempt to calculate the auto correlation, but this failed.\n",
      "To hide this warning, disable the calculation\n",
      "(using `df.profile_report(correlations={\"auto\": {\"calculate\": False}})`\n",
      "If this is problematic for your use case, please report this as an issue:\n",
      "https://github.com/ydataai/ydata-profiling/issues\n",
      "(include the error message: 'could not convert string to float: 'apple'')\n",
      "  warnings.warn(\n",
      "/Users/ramonburkhard/CIP_project/venv/lib/python3.9/site-packages/seaborn/matrix.py:260: FutureWarning: Format strings passed to MaskedConstant are ignored, but in future may error or produce different behavior\n",
      "  annotation = (\"{:\" + self.fmt + \"}\").format(val)\n",
      "/Users/ramonburkhard/CIP_project/venv/lib/python3.9/site-packages/ydata_profiling/model/missing.py:78: UserWarning: There was an attempt to generate the Heatmap missing values diagrams, but this failed.\n",
      "To hide this warning, disable the calculation\n",
      "(using `df.profile_report(missing_diagrams={\"Heatmap\": False}`)\n",
      "If this is problematic for your use case, please report this as an issue:\n",
      "https://github.com/ydataai/ydata-profiling/issues\n",
      "(include the error message: 'could not convert string to float: '--'')\n",
      "  warnings.warn(\n"
     ]
    },
    {
     "data": {
      "application/vnd.jupyter.widget-view+json": {
       "model_id": "9374ef02e7544650bf46d3c6057a3ba1",
       "version_major": 2,
       "version_minor": 0
      },
      "text/plain": [
       "Generate report structure:   0%|          | 0/1 [00:00<?, ?it/s]"
      ]
     },
     "metadata": {},
     "output_type": "display_data"
    },
    {
     "data": {
      "application/vnd.jupyter.widget-view+json": {
       "model_id": "2f04e2a8ce9e438085cb786f59c2935b",
       "version_major": 2,
       "version_minor": 0
      },
      "text/plain": [
       "Render HTML:   0%|          | 0/1 [00:00<?, ?it/s]"
      ]
     },
     "metadata": {},
     "output_type": "display_data"
    },
    {
     "data": {
      "application/vnd.jupyter.widget-view+json": {
       "model_id": "b3d64966925b488b8913dad25ead68a4",
       "version_major": 2,
       "version_minor": 0
      },
      "text/plain": [
       "Export report to file:   0%|          | 0/1 [00:00<?, ?it/s]"
      ]
     },
     "metadata": {},
     "output_type": "display_data"
    },
    {
     "name": "stdout",
     "output_type": "stream",
     "text": [
      "Data cleaning process completed and saved successfully.\n"
     ]
    }
   ],
   "source": [
    "import pandas as pd\n",
    "import numpy as np\n",
    "from pandas_profiling import ProfileReport\n",
    "import re\n",
    "\n",
    "def load_data(filepath):\n",
    "    \"\"\"Load data from a CSV file.\"\"\"\n",
    "    return pd.read_csv(filepath)\n",
    "\n",
    "def save_data(df, filepath):\n",
    "    \"\"\"Save DataFrame to a CSV file.\"\"\"\n",
    "    df.to_csv(filepath, index=False)\n",
    "\n",
    "class DataCleaner:\n",
    "    def __init__(self, filepath):\n",
    "        self.df = load_data(filepath)\n",
    "        self.valid_brands = [\n",
    "            'apple', 'xiaomi', 'samsung', 'nothing', 'motorola', 'fairphone', 'google', 'doro', 'inoi', \n",
    "            'emporia', 'one', 'nokia', 'ruggear', 'oppo', 'crosscall', 'wiko', 'peaq', 'huawei', 'lg', \n",
    "            'sony', 'htc', 'oneplus', 'zte', 'alcatel', 'asus', 'blackberry', 'realme', 'vivo', 'tecno', \n",
    "            'lenovo', 'meizu', 'honor', 'ulefone', 'cat'\n",
    "        ]\n",
    "\n",
    "    def clean_data(self):\n",
    "        \"\"\"Apply various cleaning functions.\"\"\"\n",
    "        self.df['brand'] = self.df['brand'].apply(self.validate_brand)\n",
    "        self.df['model'] = self.df['model'].apply(lambda x: x.strip().lower())\n",
    "        self.df = self.filter_category('Smartphone')\n",
    "        self.df['storage'] = self.df['storage'].apply(self.convert_storage)\n",
    "        self.df['color'] = self.df['color'].apply(self.extract_color)\n",
    "        self.df['price'] = self.df['price'].apply(self.clean_price).astype(float)\n",
    "        self.df['rating'] = self.df['rating'].fillna(0).astype(float)\n",
    "        self.clean_reviews()\n",
    "        self.df['delivery_time'] = self.df['delivery_time'].apply(self.extract_days)\n",
    "\n",
    "    def validate_brand(self, brand):\n",
    "        \"\"\"Standardize brand names and alert on unrecognized brands.\"\"\"\n",
    "        brand_lower = brand.lower()\n",
    "        if brand_lower not in self.valid_brands:\n",
    "            print(f\"Unrecognized brand, please verify: {brand}\")\n",
    "        return brand_lower\n",
    "\n",
    "    def filter_category(self, category):\n",
    "        \"\"\"Filter DataFrame by category.\"\"\"\n",
    "        return self.df[self.df['category'].str.lower() == category.lower()]\n",
    "\n",
    "    def convert_storage(self, value):\n",
    "        \"\"\"Convert TB to GB if necessary, and handle non-string inputs gracefully.\"\"\"\n",
    "        if isinstance(value, str) and 'TB' in value:\n",
    "            return str(int(float(value.replace('TB', '')) * 1000)) + ' GB'\n",
    "        elif isinstance(value, str):\n",
    "            return value.replace('GB', '').strip()\n",
    "        return value\n",
    "\n",
    "    def extract_color(self, value):\n",
    "        \"\"\"Extract color from description.\"\"\"\n",
    "        colors = ['black', 'blue', 'green', 'red', 'yellow', 'white', 'gray', 'purple', 'pink', 'orange', \n",
    "                  'brown', 'silver', 'gold', 'titanium', 'platinum', 'schwarz', 'weiss']\n",
    "        value_lower = value.lower()\n",
    "        for color in colors:\n",
    "            if color in value_lower:\n",
    "                return color\n",
    "        return 'unknown'\n",
    "\n",
    "    def clean_price(self, value):\n",
    "        \"\"\"Extract numerical price from string.\"\"\"\n",
    "        matches = re.findall(r'\\d+', value)\n",
    "        if matches:\n",
    "            return max(matches, key=len)\n",
    "        return value\n",
    "\n",
    "    def clean_reviews(self):\n",
    "        \"\"\"Extract and clean numeric review counts from strings.\"\"\"\n",
    "        self.df['n_of_reviews'] = self.df['n_of_reviews'].astype(str).str.extract('(\\d+)').fillna(0).astype(int)\n",
    "\n",
    "    def extract_days(self, text):\n",
    "        \"\"\"Extract delivery days from text.\"\"\"\n",
    "        if pd.isnull(text) or \"nicht mehr verfügbar\" in text or \"nicht lieferbar\" in text or \"ausverkauft\" in text or \"kein Liefertermin\" in text:\n",
    "            return None\n",
    "        numbers = [int(num) for num in re.findall(r'\\d+', text)]\n",
    "        return max(numbers) if numbers else None\n",
    "\n",
    "    def generate_profile_report(self):\n",
    "        \"\"\"Generate a data profiling report.\"\"\"\n",
    "        profile = ProfileReport(self.df, title='Pandas Profiling Report', explorative=True)\n",
    "        profile.to_file(\"data_profiling_report.html\")\n",
    "\n",
    "    def save(self, filepath):\n",
    "        \"\"\"Save the cleaned data to a CSV file.\"\"\"\n",
    "        save_data(self.df, filepath)\n",
    "\n",
    "if __name__ == \"__main__\":\n",
    "    cleaner = DataCleaner('data/stage01_scraped_mediamarkt.csv')\n",
    "    cleaner.clean_data()\n",
    "    cleaner.generate_profile_report()\n",
    "    cleaner.save('data/stage02_cleaned_mediamarkt.csv')\n",
    "    print(\"Data cleaning process completed and saved successfully.\")\n"
   ]
  },
  {
   "cell_type": "code",
   "execution_count": 12,
   "id": "5bbdb346-7af4-46f5-89aa-c09570bf43e4",
   "metadata": {
    "tags": []
   },
   "outputs": [
    {
     "data": {
      "text/plain": [
       "<__main__.DataCleaner at 0x286268f10>"
      ]
     },
     "execution_count": 12,
     "metadata": {},
     "output_type": "execute_result"
    }
   ],
   "source": [
    "cleaner"
   ]
  },
  {
   "cell_type": "code",
   "execution_count": null,
   "id": "358903ab-d279-47d2-af23-62d404a1195d",
   "metadata": {},
   "outputs": [],
   "source": []
  }
 ],
 "metadata": {
  "kernelspec": {
   "display_name": "Python 3 (ipykernel)",
   "language": "python",
   "name": "python3"
  },
  "language_info": {
   "codemirror_mode": {
    "name": "ipython",
    "version": 3
   },
   "file_extension": ".py",
   "mimetype": "text/x-python",
   "name": "python",
   "nbconvert_exporter": "python",
   "pygments_lexer": "ipython3",
   "version": "3.9.6"
  }
 },
 "nbformat": 4,
 "nbformat_minor": 5
}
