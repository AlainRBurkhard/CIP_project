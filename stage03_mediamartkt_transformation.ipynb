{
 "cells": [
  {
   "cell_type": "code",
   "execution_count": 77,
   "id": "d5383cb1-87ad-4ac1-8ef5-7553e0297c19",
   "metadata": {
    "tags": []
   },
   "outputs": [],
   "source": [
    "import pandas as pd\n",
    "import time\n",
    "from datetime import datetime\n",
    "import ydata_profiling\n",
    "from pandas_profiling import ProfileReport\n",
    "import numpy as np\n",
    "import re\n",
    "import requests"
   ]
  },
  {
   "cell_type": "code",
   "execution_count": null,
   "id": "73a8837e-67bf-4218-9d74-337213e3fdd9",
   "metadata": {},
   "outputs": [],
   "source": [
    "create a rating\n"
   ]
  },
  {
   "cell_type": "code",
   "execution_count": 84,
   "id": "ee1b9467-71d4-490e-9bf4-0b90e2575b61",
   "metadata": {
    "tags": []
   },
   "outputs": [],
   "source": [
    "df = pd.read_csv('data/cleaned_mediamarkt.csv')"
   ]
  },
  {
   "cell_type": "code",
   "execution_count": 85,
   "id": "05acd5d6-8164-4995-bb3b-25af831f18dc",
   "metadata": {
    "tags": []
   },
   "outputs": [],
   "source": [
    "#transforming storage column"
   ]
  },
  {
   "cell_type": "code",
   "execution_count": 89,
   "id": "00caa69b-f387-4647-bb41-829ba2e8dc6b",
   "metadata": {
    "tags": []
   },
   "outputs": [
    {
     "name": "stdout",
     "output_type": "stream",
     "text": [
      "128: https://www.mediamarkt.ch/de/product/_emporia-supereasy-2127635.html\n",
      "137: https://www.mediamarkt.ch/de/product/_emporia-touchsmart-2-2110132.html\n"
     ]
    }
   ],
   "source": [
    "df_space_nan = df[pd.isnull(df['storage'])]\n",
    "storage_verification = df_space_nan['source']\n",
    "for index, url in storage_verification.items():\n",
    "    print(f\"{index}: {url}\")"
   ]
  },
  {
   "cell_type": "code",
   "execution_count": 90,
   "id": "121e33d9-fcf1-498d-b1b6-d291b92f206b",
   "metadata": {
    "tags": []
   },
   "outputs": [],
   "source": [
    "storage_manually = {\n",
    "    128: '32 GB',\n",
    "    137: '8 GB'\n",
    "}\n",
    "\n",
    "# Update the 'size' column in the DataFrame\n",
    "for index, storage in storage_manually.items():\n",
    "    df.at[index, 'storage'] = storage"
   ]
  },
  {
   "cell_type": "code",
   "execution_count": 91,
   "id": "fc7dfa5b-49ec-4f01-b587-629f22ee2e34",
   "metadata": {
    "tags": []
   },
   "outputs": [
    {
     "data": {
      "text/plain": [
       "0"
      ]
     },
     "execution_count": 91,
     "metadata": {},
     "output_type": "execute_result"
    }
   ],
   "source": [
    "df['storage'].isnull().sum() "
   ]
  },
  {
   "cell_type": "code",
   "execution_count": 92,
   "id": "4f15a802-853e-4a5a-b759-39d4dba4be8a",
   "metadata": {
    "tags": []
   },
   "outputs": [],
   "source": [
    "def convert_to_gb(value):\n",
    "    if isinstance(value, str):\n",
    "        if 'TB' in value:\n",
    "            # Convert TB to GB by multiplying by 1000\n",
    "            return int(float(value.replace('TB', '')) * 1000)\n",
    "        elif 'GB' in value:\n",
    "            # Simply remove 'GB' from the string and convert to int\n",
    "            return int(value.replace('GB', ''))\n",
    "    elif isinstance(value, (int, float)):\n",
    "        # If it's a numerical type, we assume it's already in GB\n",
    "        return int(value)\n",
    "    else:\n",
    "        # If the value is neither string nor numeric, we may want to handle this differently\n",
    "        # For example, you could return None or raise an error\n",
    "        return None\n",
    "\n",
    "# Apply the conversion function to the 'storage' column\n",
    "df['memory_GB'] = df['storage'].apply(convert_to_gb)\n"
   ]
  },
  {
   "cell_type": "code",
   "execution_count": 116,
   "id": "25ce2dae-cfb6-4d7a-b508-c51b29ae1ae4",
   "metadata": {
    "tags": []
   },
   "outputs": [
    {
     "data": {
      "text/plain": [
       "<bound method Series.info of 0       716.00\n",
       "1      1129.00\n",
       "2       619.00\n",
       "3      1040.00\n",
       "4      1125.00\n",
       "        ...   \n",
       "352     797.00\n",
       "353    1485.00\n",
       "354     479.95\n",
       "355     829.00\n",
       "356     159.70\n",
       "Name: price, Length: 357, dtype: float64>"
      ]
     },
     "execution_count": 116,
     "metadata": {},
     "output_type": "execute_result"
    }
   ],
   "source": [
    "df['price'].info"
   ]
  },
  {
   "cell_type": "code",
   "execution_count": 94,
   "id": "a571ee39-cc46-4397-b764-1eb4ce4e6c87",
   "metadata": {
    "tags": []
   },
   "outputs": [],
   "source": [
    "df['rating_100'] = df['rating'] * 20"
   ]
  },
  {
   "cell_type": "code",
   "execution_count": 117,
   "id": "479df50f-7b37-46b7-bfa5-9a43d201d045",
   "metadata": {
    "tags": []
   },
   "outputs": [],
   "source": [
    "df['screen_price_ratio'] = df['price'] / df['size']\n"
   ]
  },
  {
   "cell_type": "code",
   "execution_count": null,
   "id": "d2412489-7569-4f0c-bcc4-60936c66449d",
   "metadata": {},
   "outputs": [],
   "source": [
    "file_name = \"data/stage03_mediamarkt.csv\"\n",
    "# Save the DataFrame to CSV in the same directory as the script\n",
    "df.to_csv(file_name, index=False)"
   ]
  }
 ],
 "metadata": {
  "kernelspec": {
   "display_name": "Python 3 (ipykernel)",
   "language": "python",
   "name": "python3"
  },
  "language_info": {
   "codemirror_mode": {
    "name": "ipython",
    "version": 3
   },
   "file_extension": ".py",
   "mimetype": "text/x-python",
   "name": "python",
   "nbconvert_exporter": "python",
   "pygments_lexer": "ipython3",
   "version": "3.9.6"
  }
 },
 "nbformat": 4,
 "nbformat_minor": 5
}
